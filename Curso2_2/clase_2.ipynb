{
  "nbformat": 4,
  "nbformat_minor": 0,
  "metadata": {
    "colab": {
      "name": "clase_2.ipynb",
      "provenance": [],
      "collapsed_sections": [
        "ten4_fwwJDNH",
        "dkVuRXlST-4I",
        "pWOL0z5heRUL",
        "0Uqwa-cPf2Sc",
        "hCr8iKqsgjTt",
        "D1vN2jWzYYzi",
        "lVQa7ZLXhYaS",
        "O-aeg8avhiZo",
        "MuPviq5RsIZ-",
        "omVToYxnpeYm",
        "JQXcwRCllGpT"
      ]
    },
    "kernelspec": {
      "name": "python3",
      "display_name": "Python 3"
    }
  },
  "cells": [
    {
      "cell_type": "markdown",
      "metadata": {
        "id": "ten4_fwwJDNH",
        "colab_type": "text"
      },
      "source": [
        "# Funciones"
      ]
    },
    {
      "cell_type": "markdown",
      "metadata": {
        "id": "__f6h1WSKJH-",
        "colab_type": "text"
      },
      "source": [
        "Una función es un bloque de código organizado y reutilizable que se utiliza para realizar una única acción relacionada. Las funciones proporcionan una mejor modularidad para su aplicación y un alto grado de reutilización de código."
      ]
    },
    {
      "cell_type": "code",
      "metadata": {
        "id": "ISqnUVhXI_ML",
        "colab_type": "code",
        "colab": {}
      },
      "source": [
        "#Definimos una funcion que calcule la media de una lista de numeros\n",
        "def media(v):\n",
        "  media = 0\n",
        "  for i in v:\n",
        "    media += i\n",
        "\n",
        "  return(media/len(v))"
      ],
      "execution_count": 0,
      "outputs": []
    },
    {
      "cell_type": "code",
      "metadata": {
        "id": "TxWLs2PkPvqn",
        "colab_type": "code",
        "colab": {}
      },
      "source": [
        "#Definamos una funcion para calcular la varianza\n",
        "def varianza(v):\n",
        "  var = 0\n",
        "  m = media(v)\n",
        "  for i in v:\n",
        "    var += (i - m)**2\n",
        "\n",
        "  return(var/len(v))"
      ],
      "execution_count": 0,
      "outputs": []
    },
    {
      "cell_type": "code",
      "metadata": {
        "id": "p1vOhvngKk8N",
        "colab_type": "code",
        "colab": {
          "base_uri": "https://localhost:8080/",
          "height": 34
        },
        "outputId": "f91a0a52-4358-4a08-caf2-829f5b53dee1"
      },
      "source": [
        "#Ejecutamos la funciones\n",
        "lista = [4,2,2,2,2,3,4,5,6]\n",
        "media(lista), varianza(lista)"
      ],
      "execution_count": 34,
      "outputs": [
        {
          "output_type": "execute_result",
          "data": {
            "text/plain": [
              "(3.3333333333333335, 2.0)"
            ]
          },
          "metadata": {
            "tags": []
          },
          "execution_count": 34
        }
      ]
    },
    {
      "cell_type": "markdown",
      "metadata": {
        "id": "cwpR30KMMzMG",
        "colab_type": "text"
      },
      "source": [
        "Ejemplos de funciones ya construidas en python"
      ]
    },
    {
      "cell_type": "code",
      "metadata": {
        "id": "5Db3VOW7LPB1",
        "colab_type": "code",
        "colab": {
          "base_uri": "https://localhost:8080/",
          "height": 34
        },
        "outputId": "7e0efefd-9085-48e0-8260-0c649654c4ac"
      },
      "source": [
        "#Forma facil de calcular la media\n",
        "sum(lista)/len(lista)"
      ],
      "execution_count": 36,
      "outputs": [
        {
          "output_type": "execute_result",
          "data": {
            "text/plain": [
              "3.3333333333333335"
            ]
          },
          "metadata": {
            "tags": []
          },
          "execution_count": 36
        }
      ]
    },
    {
      "cell_type": "code",
      "metadata": {
        "id": "AxY4mtMFRag4",
        "colab_type": "code",
        "colab": {
          "base_uri": "https://localhost:8080/",
          "height": 34
        },
        "outputId": "c92a86a6-f611-4d08-82b2-0b081f577ef5"
      },
      "source": [
        "#Funcion que calcula el maximo y minimo\n",
        "max(lista) , min(lista)"
      ],
      "execution_count": 42,
      "outputs": [
        {
          "output_type": "execute_result",
          "data": {
            "text/plain": [
              "(6, 2)"
            ]
          },
          "metadata": {
            "tags": []
          },
          "execution_count": 42
        }
      ]
    },
    {
      "cell_type": "markdown",
      "metadata": {
        "id": "dkVuRXlST-4I",
        "colab_type": "text"
      },
      "source": [
        "#clases y objetos en python"
      ]
    },
    {
      "cell_type": "markdown",
      "metadata": {
        "id": "7yiunOmJUCQG",
        "colab_type": "text"
      },
      "source": [
        "En python casi todo es un objecto!\n",
        "\n",
        "Los objetos son un conjunto de atributos (tambien llamados instancias)  y metodos (que son funciones como lo veremos)  asociados a un tipo de dato.\n",
        "\n",
        "Las clases son los planos \"BluePrints\" de los objetos"
      ]
    },
    {
      "cell_type": "code",
      "metadata": {
        "id": "1TR4ANC4TgPO",
        "colab_type": "code",
        "colab": {}
      },
      "source": [
        "#creacion de la clase robot usando el metodo __init__\n",
        "class robot():\n",
        "  def __init__(self, nombre='pepe', color='azul' , edad=100):\n",
        "    self.nombre = nombre\n",
        "    self.color = color\n",
        "    self.edad = edad\n",
        "\n",
        "  def hablar(self):\n",
        "    print(f\"Hola, mi nombre es {self.nombre} y tengo {self.edad} años\" )"
      ],
      "execution_count": 0,
      "outputs": []
    },
    {
      "cell_type": "code",
      "metadata": {
        "id": "c3uV5cndbICZ",
        "colab_type": "code",
        "colab": {}
      },
      "source": [
        "#cracion de los objetos  robot_1 y robot_2\n",
        "robot_1 = robot('Juan', 'rojo', 5); robot_2 = robot()"
      ],
      "execution_count": 0,
      "outputs": []
    },
    {
      "cell_type": "code",
      "metadata": {
        "id": "f91NfaYsiTT6",
        "colab_type": "code",
        "colab": {
          "base_uri": "https://localhost:8080/",
          "height": 34
        },
        "outputId": "572bd22a-5a51-4a23-ef6a-0a299d14e02b"
      },
      "source": [
        " # verifiquemos el tipo de robot_1\n",
        "type(robot_1)"
      ],
      "execution_count": 59,
      "outputs": [
        {
          "output_type": "execute_result",
          "data": {
            "text/plain": [
              "__main__.robot"
            ]
          },
          "metadata": {
            "tags": []
          },
          "execution_count": 59
        }
      ]
    },
    {
      "cell_type": "code",
      "metadata": {
        "id": "3K7pmJVYbOAQ",
        "colab_type": "code",
        "colab": {
          "base_uri": "https://localhost:8080/",
          "height": 34
        },
        "outputId": "c31e7de4-b9d2-4861-a986-6587af529720"
      },
      "source": [
        " #atributos del objeto robot_1\n",
        "robot_1.nombre, robot_1.color, robot_1.edad"
      ],
      "execution_count": 60,
      "outputs": [
        {
          "output_type": "execute_result",
          "data": {
            "text/plain": [
              "('Juan', 'rojo', 5)"
            ]
          },
          "metadata": {
            "tags": []
          },
          "execution_count": 60
        }
      ]
    },
    {
      "cell_type": "code",
      "metadata": {
        "id": "WERrLA5gckVj",
        "colab_type": "code",
        "colab": {
          "base_uri": "https://localhost:8080/",
          "height": 34
        },
        "outputId": "ebbcfb4f-be12-4fd4-8da5-3c391c9f119e"
      },
      "source": [
        " #atributos del objeto robot_2\n",
        "robot_2.nombre, robot_2.color, robot_2.edad"
      ],
      "execution_count": 61,
      "outputs": [
        {
          "output_type": "execute_result",
          "data": {
            "text/plain": [
              "('pepe', 'azul', 100)"
            ]
          },
          "metadata": {
            "tags": []
          },
          "execution_count": 61
        }
      ]
    },
    {
      "cell_type": "markdown",
      "metadata": {
        "id": "B9VBYyJkci_A",
        "colab_type": "text"
      },
      "source": [
        "Hay dos formas de ejecutar los metodos"
      ]
    },
    {
      "cell_type": "code",
      "metadata": {
        "id": "CmHh0RtwbqpP",
        "colab_type": "code",
        "colab": {
          "base_uri": "https://localhost:8080/",
          "height": 34
        },
        "outputId": "839c9901-5aa3-40aa-f7fb-2989cd30c108"
      },
      "source": [
        " #Forma 1\n",
        "robot_1.hablar()"
      ],
      "execution_count": 62,
      "outputs": [
        {
          "output_type": "stream",
          "text": [
            "Hola, mi nombre es Juan y tengo 5 años\n"
          ],
          "name": "stdout"
        }
      ]
    },
    {
      "cell_type": "code",
      "metadata": {
        "id": "o5FkxkkgcH6h",
        "colab_type": "code",
        "colab": {
          "base_uri": "https://localhost:8080/",
          "height": 34
        },
        "outputId": "673d01d7-3e60-4189-96ba-be8c326110eb"
      },
      "source": [
        " #Forma 2\n",
        "robot.hablar(robot_1)"
      ],
      "execution_count": 64,
      "outputs": [
        {
          "output_type": "stream",
          "text": [
            "Hola, mi nombre es Juan y tengo 5 años\n"
          ],
          "name": "stdout"
        }
      ]
    },
    {
      "cell_type": "markdown",
      "metadata": {
        "id": "8Aq-1csydHcL",
        "colab_type": "text"
      },
      "source": [
        "Ejemplos usando metodos ya construidos en python"
      ]
    },
    {
      "cell_type": "code",
      "metadata": {
        "id": "0Que3FzacgOy",
        "colab_type": "code",
        "colab": {}
      },
      "source": [
        "#creacion de una cadena de caracteres\n",
        "palabra = 'EsTa eS La claSe #2'"
      ],
      "execution_count": 0,
      "outputs": []
    },
    {
      "cell_type": "code",
      "metadata": {
        "id": "pVSlotbOYznT",
        "colab_type": "code",
        "colab": {
          "base_uri": "https://localhost:8080/",
          "height": 34
        },
        "outputId": "e9a4ecf1-d0d0-4661-fcb2-62c209e6a8c4"
      },
      "source": [
        "# Palabras en minuscula\n",
        "palabra.lower() , str.lower(palabra)"
      ],
      "execution_count": 67,
      "outputs": [
        {
          "output_type": "execute_result",
          "data": {
            "text/plain": [
              "('esta es la clase #2', 'esta es la clase #2')"
            ]
          },
          "metadata": {
            "tags": []
          },
          "execution_count": 67
        }
      ]
    },
    {
      "cell_type": "code",
      "metadata": {
        "id": "xcXc-OKkZO8v",
        "colab_type": "code",
        "colab": {}
      },
      "source": [
        "#Palabras en mayusculas\n",
        "palabra.upper(), str.upper(palabra)"
      ],
      "execution_count": 0,
      "outputs": []
    },
    {
      "cell_type": "markdown",
      "metadata": {
        "id": "pWOL0z5heRUL",
        "colab_type": "text"
      },
      "source": [
        "# Librerias en python"
      ]
    },
    {
      "cell_type": "markdown",
      "metadata": {
        "id": "cueXTQxlfC1q",
        "colab_type": "text"
      },
      "source": [
        "Una libreria es una coleccion de clses y metodos los cuales nos permiten crear objetos sin la nececidad de programarlos explicitamente.\n",
        "\n",
        "Existen muchas librerias, las mas utilizadas por nosostros seran:\n",
        "* numpy\n",
        "* pandas \n",
        "* matplotlib\n",
        "* seaborn\n",
        "* sklearn\n"
      ]
    },
    {
      "cell_type": "markdown",
      "metadata": {
        "id": "0Uqwa-cPf2Sc",
        "colab_type": "text"
      },
      "source": [
        "#Numpy"
      ]
    },
    {
      "cell_type": "markdown",
      "metadata": {
        "id": "n3kaq5SwgHNJ",
        "colab_type": "text"
      },
      "source": [
        "Esta libreria proporciona objetos arreglos multidimensionales (tensores) de alto desempeño, ademas de erramientas para trabajar con estos arreglos"
      ]
    },
    {
      "cell_type": "code",
      "metadata": {
        "id": "fUUnj-UgdNCi",
        "colab_type": "code",
        "colab": {}
      },
      "source": [
        "#Importar numpy\n",
        "import numpy as np"
      ],
      "execution_count": 0,
      "outputs": []
    },
    {
      "cell_type": "markdown",
      "metadata": {
        "id": "hCr8iKqsgjTt",
        "colab_type": "text"
      },
      "source": [
        "## 1D array "
      ]
    },
    {
      "cell_type": "markdown",
      "metadata": {
        "id": "QrsZZDU_gvQJ",
        "colab_type": "text"
      },
      "source": [
        "un arreglo unidimensional es una colecion de tipos de datos los cuales se encuntran indexados ( tal y como las listas ). A diferencia de las listas, los arreglos 1D ( y en general los arreglos de cualquier dimension ) solo pueden contener un tipo de dato.\n",
        "\n",
        "Los arreglos de python soportan indexacion y slicing\n",
        "\n",
        "para crear un arreglo 1D de python , podemos usar una lista de numpy\n"
      ]
    },
    {
      "cell_type": "code",
      "metadata": {
        "id": "LftLYaAogs7K",
        "colab_type": "code",
        "colab": {
          "base_uri": "https://localhost:8080/",
          "height": 50
        },
        "outputId": "c1515d23-8427-4bfe-c222-e5732f56e614"
      },
      "source": [
        "v = np.array([1,2,2,5,2.6,5,6,7,3]) #creacion de un arreglo 1D de numpy\n",
        "print(type(v))\n",
        "v #Veamos el vector y a que clase pertenece (esto es , veamos que tipo de dato es)"
      ],
      "execution_count": 85,
      "outputs": [
        {
          "output_type": "stream",
          "text": [
            "<class 'numpy.ndarray'>\n"
          ],
          "name": "stdout"
        },
        {
          "output_type": "execute_result",
          "data": {
            "text/plain": [
              "array([1. , 2. , 2. , 5. , 2.6, 5. , 6. , 7. , 3. ])"
            ]
          },
          "metadata": {
            "tags": []
          },
          "execution_count": 85
        }
      ]
    },
    {
      "cell_type": "code",
      "metadata": {
        "id": "BJEMB3gfjoO7",
        "colab_type": "code",
        "colab": {
          "base_uri": "https://localhost:8080/",
          "height": 34
        },
        "outputId": "89a2ee96-31e0-4d95-8301-ae9798903bb7"
      },
      "source": [
        "#indexacion\n",
        "v[0], v[1] , v[-1] , v[8]"
      ],
      "execution_count": 86,
      "outputs": [
        {
          "output_type": "execute_result",
          "data": {
            "text/plain": [
              "(1.0, 2.0, 3.0, 3.0)"
            ]
          },
          "metadata": {
            "tags": []
          },
          "execution_count": 86
        }
      ]
    },
    {
      "cell_type": "code",
      "metadata": {
        "id": "bft97xylgmsq",
        "colab_type": "code",
        "colab": {
          "base_uri": "https://localhost:8080/",
          "height": 84
        },
        "outputId": "fb403510-437b-4202-e00f-2e254f10f977"
      },
      "source": [
        "#slicing [indice_inicial:indice_fianl:paso]\n",
        "v[0:5:2], v[::-1] , v[1::3] , v[5::]"
      ],
      "execution_count": 95,
      "outputs": [
        {
          "output_type": "execute_result",
          "data": {
            "text/plain": [
              "(array([1. , 2. , 2.6]),\n",
              " array([3. , 7. , 6. , 5. , 2.6, 5. , 2. , 2. , 1. ]),\n",
              " array([2. , 2.6, 7. ]),\n",
              " array([5., 6., 7., 3.]))"
            ]
          },
          "metadata": {
            "tags": []
          },
          "execution_count": 95
        }
      ]
    },
    {
      "cell_type": "code",
      "metadata": {
        "id": "0aFHkVlCbWOt",
        "colab_type": "code",
        "colab": {
          "base_uri": "https://localhost:8080/",
          "height": 34
        },
        "outputId": "ab86f087-30f0-438d-de86-0cb20b05a28b"
      },
      "source": [
        "# otras formas de hacer indexing (usar una lista para hacer indexing)\n",
        "v[[1,3,5,6]]"
      ],
      "execution_count": 97,
      "outputs": [
        {
          "output_type": "execute_result",
          "data": {
            "text/plain": [
              "array([2., 5., 5., 6.])"
            ]
          },
          "metadata": {
            "tags": []
          },
          "execution_count": 97
        }
      ]
    },
    {
      "cell_type": "code",
      "metadata": {
        "id": "cgAdkYMcpdIj",
        "colab_type": "code",
        "colab": {
          "base_uri": "https://localhost:8080/",
          "height": 34
        },
        "outputId": "54a4c280-2910-46db-9de3-6bdfdebb2802"
      },
      "source": [
        "#Indexacion usando tipos buleanos\n",
        "v[[True , True , False, False, True, True, False, False, False]]"
      ],
      "execution_count": 101,
      "outputs": [
        {
          "output_type": "execute_result",
          "data": {
            "text/plain": [
              "array([1. , 2. , 2.6, 5. ])"
            ]
          },
          "metadata": {
            "tags": []
          },
          "execution_count": 101
        }
      ]
    },
    {
      "cell_type": "code",
      "metadata": {
        "id": "PIiW74rAYQq6",
        "colab_type": "code",
        "colab": {
          "base_uri": "https://localhost:8080/",
          "height": 34
        },
        "outputId": "97c4e798-46a8-4c4c-9956-658e9cf88c1d"
      },
      "source": [
        "#Indexacion usando tipos buleanos\n",
        "v > 4"
      ],
      "execution_count": 102,
      "outputs": [
        {
          "output_type": "execute_result",
          "data": {
            "text/plain": [
              "array([False, False, False,  True, False,  True,  True,  True, False])"
            ]
          },
          "metadata": {
            "tags": []
          },
          "execution_count": 102
        }
      ]
    },
    {
      "cell_type": "code",
      "metadata": {
        "id": "xGdJaVCcYh2x",
        "colab_type": "code",
        "colab": {
          "base_uri": "https://localhost:8080/",
          "height": 34
        },
        "outputId": "d851bcb2-b769-43d5-8849-99c93bd91164"
      },
      "source": [
        "#Indexacion usando tipos buleanos\n",
        "v[v > 4]"
      ],
      "execution_count": 104,
      "outputs": [
        {
          "output_type": "execute_result",
          "data": {
            "text/plain": [
              "array([5., 5., 6., 7.])"
            ]
          },
          "metadata": {
            "tags": []
          },
          "execution_count": 104
        }
      ]
    },
    {
      "cell_type": "code",
      "metadata": {
        "id": "FGMR6iiDikSi",
        "colab_type": "code",
        "colab": {
          "base_uri": "https://localhost:8080/",
          "height": 84
        },
        "outputId": "472039fb-a0c0-4593-821b-e7671ec31f01"
      },
      "source": [
        "print(v.shape) #atributo shape del arreglo de numpy\n",
        "print(v.dtype) #atributo dtype\n",
        "print(v.size) #atributo size\n",
        "print(v.ndim) #atributo ndim"
      ],
      "execution_count": 105,
      "outputs": [
        {
          "output_type": "stream",
          "text": [
            "(9,)\n",
            "float64\n",
            "9\n",
            "1\n"
          ],
          "name": "stdout"
        }
      ]
    },
    {
      "cell_type": "markdown",
      "metadata": {
        "id": "D1vN2jWzYYzi",
        "colab_type": "text"
      },
      "source": [
        "## 2D arrys"
      ]
    },
    {
      "cell_type": "markdown",
      "metadata": {
        "id": "84gVBWFIYcKO",
        "colab_type": "text"
      },
      "source": [
        "Como se menciono antes, es posible crear arreglos de mayor dimension. en este caso , veamos los arreglos 2D (tambien conocidos como matrices)"
      ]
    },
    {
      "cell_type": "code",
      "metadata": {
        "id": "z2kwDfYGYwpu",
        "colab_type": "code",
        "colab": {}
      },
      "source": [
        "#creacion de un arreglo 2D (matriz) usando una lista de python\n",
        "entradas = [\n",
        "            [2,6,4,8,9],\n",
        "            [2,6,7,9,2.3],\n",
        "            [5,6,3.,4,2.,],\n",
        "            [9,0,5,3,6,],\n",
        "            [3.6,2.7,9.8,2,4] \n",
        "            ]"
      ],
      "execution_count": 0,
      "outputs": []
    },
    {
      "cell_type": "code",
      "metadata": {
        "id": "VCAUUWh7Ybi6",
        "colab_type": "code",
        "colab": {
          "base_uri": "https://localhost:8080/",
          "height": 101
        },
        "outputId": "69e1f247-1f0e-4328-c34e-a3e88ad7fe78"
      },
      "source": [
        "#creacion de un arreglo 2D (matriz) usando una lista de python\n",
        "M = np.array(entradas)\n",
        "M"
      ],
      "execution_count": 109,
      "outputs": [
        {
          "output_type": "execute_result",
          "data": {
            "text/plain": [
              "array([[2. , 6. , 4. , 8. , 9. ],\n",
              "       [2. , 6. , 7. , 9. , 2.3],\n",
              "       [5. , 6. , 3. , 4. , 2. ],\n",
              "       [9. , 0. , 5. , 3. , 6. ],\n",
              "       [3.6, 2.7, 9.8, 2. , 4. ]])"
            ]
          },
          "metadata": {
            "tags": []
          },
          "execution_count": 109
        }
      ]
    },
    {
      "cell_type": "code",
      "metadata": {
        "id": "ddZXJKNGY9cd",
        "colab_type": "code",
        "colab": {
          "base_uri": "https://localhost:8080/",
          "height": 34
        },
        "outputId": "3a6963c2-ef0d-4ae5-c644-3f1351d124b6"
      },
      "source": [
        "#Indexacion en arreglos matriciales\n",
        "M[0,0] , M[4,-1] , M[4,4]"
      ],
      "execution_count": 110,
      "outputs": [
        {
          "output_type": "execute_result",
          "data": {
            "text/plain": [
              "(2.0, 4.0, 4.0)"
            ]
          },
          "metadata": {
            "tags": []
          },
          "execution_count": 110
        }
      ]
    },
    {
      "cell_type": "code",
      "metadata": {
        "id": "KvCBTHKIY9Z9",
        "colab_type": "code",
        "colab": {
          "base_uri": "https://localhost:8080/",
          "height": 34
        },
        "outputId": "e87e86e5-b131-4656-ba33-1651a566fd14"
      },
      "source": [
        "#Slicing en arreglos matriciales\n",
        "M[0:6:2, 0] "
      ],
      "execution_count": 115,
      "outputs": [
        {
          "output_type": "execute_result",
          "data": {
            "text/plain": [
              "array([2. , 5. , 3.6])"
            ]
          },
          "metadata": {
            "tags": []
          },
          "execution_count": 115
        }
      ]
    },
    {
      "cell_type": "code",
      "metadata": {
        "id": "siCh7TK1aO6d",
        "colab_type": "code",
        "colab": {
          "base_uri": "https://localhost:8080/",
          "height": 67
        },
        "outputId": "357446ac-057d-4011-8a3e-cb7b9fa369f0"
      },
      "source": [
        "#Slicing en arreglos matriciales\n",
        "M[0:6:2, 0:6:2] "
      ],
      "execution_count": 116,
      "outputs": [
        {
          "output_type": "execute_result",
          "data": {
            "text/plain": [
              "array([[2. , 4. , 9. ],\n",
              "       [5. , 3. , 2. ],\n",
              "       [3.6, 9.8, 4. ]])"
            ]
          },
          "metadata": {
            "tags": []
          },
          "execution_count": 116
        }
      ]
    },
    {
      "cell_type": "code",
      "metadata": {
        "id": "34kdy8c3aO3S",
        "colab_type": "code",
        "colab": {
          "base_uri": "https://localhost:8080/",
          "height": 67
        },
        "outputId": "1279b744-39b7-401b-9852-99069ecfd22b"
      },
      "source": [
        "#Slicing en arreglos matriciales\n",
        "M[0:6:2, :] "
      ],
      "execution_count": 117,
      "outputs": [
        {
          "output_type": "execute_result",
          "data": {
            "text/plain": [
              "array([[2. , 6. , 4. , 8. , 9. ],\n",
              "       [5. , 6. , 3. , 4. , 2. ],\n",
              "       [3.6, 2.7, 9.8, 2. , 4. ]])"
            ]
          },
          "metadata": {
            "tags": []
          },
          "execution_count": 117
        }
      ]
    },
    {
      "cell_type": "code",
      "metadata": {
        "id": "Z5s0qKZIaS4D",
        "colab_type": "code",
        "colab": {
          "base_uri": "https://localhost:8080/",
          "height": 34
        },
        "outputId": "0e883262-903b-44b9-929e-49d2cdc5ea83"
      },
      "source": [
        "#Slicing en arreglos matriciales\n",
        "M[0:, -1] "
      ],
      "execution_count": 118,
      "outputs": [
        {
          "output_type": "execute_result",
          "data": {
            "text/plain": [
              "array([9. , 2.3, 2. , 6. , 4. ])"
            ]
          },
          "metadata": {
            "tags": []
          },
          "execution_count": 118
        }
      ]
    },
    {
      "cell_type": "code",
      "metadata": {
        "id": "2C7hjlncaSvx",
        "colab_type": "code",
        "colab": {
          "base_uri": "https://localhost:8080/",
          "height": 101
        },
        "outputId": "f92c08b7-e327-4442-fc25-243346260dbc"
      },
      "source": [
        "#Slicing en arreglos matriciales\n",
        "M[:, 0:-1:3] "
      ],
      "execution_count": 121,
      "outputs": [
        {
          "output_type": "execute_result",
          "data": {
            "text/plain": [
              "array([[2. , 8. ],\n",
              "       [2. , 9. ],\n",
              "       [5. , 4. ],\n",
              "       [9. , 3. ],\n",
              "       [3.6, 2. ]])"
            ]
          },
          "metadata": {
            "tags": []
          },
          "execution_count": 121
        }
      ]
    },
    {
      "cell_type": "code",
      "metadata": {
        "id": "L9tdn3j0dZLc",
        "colab_type": "code",
        "colab": {
          "base_uri": "https://localhost:8080/",
          "height": 101
        },
        "outputId": "85610f4e-8b66-4f7b-fd8a-d77b5c5303ac"
      },
      "source": [
        "#Otras formas de indexing usando listas de python\n",
        "M[:,[0,2,4]]"
      ],
      "execution_count": 124,
      "outputs": [
        {
          "output_type": "execute_result",
          "data": {
            "text/plain": [
              "array([[2. , 4. , 9. ],\n",
              "       [2. , 7. , 2.3],\n",
              "       [5. , 3. , 2. ],\n",
              "       [9. , 5. , 6. ],\n",
              "       [3.6, 9.8, 4. ]])"
            ]
          },
          "metadata": {
            "tags": []
          },
          "execution_count": 124
        }
      ]
    },
    {
      "cell_type": "code",
      "metadata": {
        "id": "v9JGAsKcY9Uy",
        "colab_type": "code",
        "colab": {
          "base_uri": "https://localhost:8080/",
          "height": 50
        },
        "outputId": "b1139e20-1b50-4588-f4ab-2112f980c7ff"
      },
      "source": [
        "#Otras formas de indexing\n",
        "index = [[2,2],[0,0]], [[2,2],[0,0]]\n",
        "M[index]"
      ],
      "execution_count": 137,
      "outputs": [
        {
          "output_type": "execute_result",
          "data": {
            "text/plain": [
              "array([[3., 3.],\n",
              "       [2., 2.]])"
            ]
          },
          "metadata": {
            "tags": []
          },
          "execution_count": 137
        }
      ]
    },
    {
      "cell_type": "code",
      "metadata": {
        "id": "aWrtMUg5bghC",
        "colab_type": "code",
        "colab": {
          "base_uri": "https://localhost:8080/",
          "height": 101
        },
        "outputId": "4c4176d8-c991-4360-9b63-421c4c4ddd22"
      },
      "source": [
        "#Indexacion usando tipos buleanos\n",
        "M > 5"
      ],
      "execution_count": 140,
      "outputs": [
        {
          "output_type": "execute_result",
          "data": {
            "text/plain": [
              "array([[False,  True, False,  True,  True],\n",
              "       [False,  True,  True,  True, False],\n",
              "       [False,  True, False, False, False],\n",
              "       [ True, False, False, False,  True],\n",
              "       [False, False,  True, False, False]])"
            ]
          },
          "metadata": {
            "tags": []
          },
          "execution_count": 140
        }
      ]
    },
    {
      "cell_type": "code",
      "metadata": {
        "id": "QNy0cSFVplri",
        "colab_type": "code",
        "colab": {
          "base_uri": "https://localhost:8080/",
          "height": 34
        },
        "outputId": "696d2d88-f4ec-425c-c2df-c388b2452348"
      },
      "source": [
        "#Indexacion usando tipos buleanos\n",
        "M[M > 5]"
      ],
      "execution_count": 141,
      "outputs": [
        {
          "output_type": "execute_result",
          "data": {
            "text/plain": [
              "array([6. , 8. , 9. , 6. , 7. , 9. , 6. , 9. , 6. , 9.8])"
            ]
          },
          "metadata": {
            "tags": []
          },
          "execution_count": 141
        }
      ]
    },
    {
      "cell_type": "code",
      "metadata": {
        "id": "hiUsbpbshMuu",
        "colab_type": "code",
        "colab": {
          "base_uri": "https://localhost:8080/",
          "height": 84
        },
        "outputId": "123a551c-b768-4175-a546-3fc1f640dbe0"
      },
      "source": [
        "print(M.shape) #atributo shape del arreglo de numpy\n",
        "print(M.dtype) #atributo dtype\n",
        "print(M.size) #atributo size\n",
        "print(M.ndim) #atributo ndim"
      ],
      "execution_count": 142,
      "outputs": [
        {
          "output_type": "stream",
          "text": [
            "(5, 5)\n",
            "float64\n",
            "25\n",
            "2\n"
          ],
          "name": "stdout"
        }
      ]
    },
    {
      "cell_type": "markdown",
      "metadata": {
        "id": "AUP_MeFyW1i0",
        "colab_type": "text"
      },
      "source": [
        "Numpy tiene muchas funciones para crear arreglos "
      ]
    },
    {
      "cell_type": "code",
      "metadata": {
        "id": "wqmorXvjdwXN",
        "colab_type": "code",
        "colab": {
          "base_uri": "https://localhost:8080/",
          "height": 34
        },
        "outputId": "7bfad26a-3870-4616-9836-e36b79037f81"
      },
      "source": [
        "# Creación de un array de zeros\n",
        "np.zeros(5)"
      ],
      "execution_count": 149,
      "outputs": [
        {
          "output_type": "execute_result",
          "data": {
            "text/plain": [
              "array([0., 0., 0., 0., 0.])"
            ]
          },
          "metadata": {
            "tags": []
          },
          "execution_count": 149
        }
      ]
    },
    {
      "cell_type": "code",
      "metadata": {
        "id": "Z1V-pAlmcrLB",
        "colab_type": "code",
        "colab": {
          "base_uri": "https://localhost:8080/",
          "height": 50
        },
        "outputId": "a4ac896c-b2ee-45ea-dba4-4ff09321a08b"
      },
      "source": [
        "np.zeros((2,2))"
      ],
      "execution_count": 150,
      "outputs": [
        {
          "output_type": "execute_result",
          "data": {
            "text/plain": [
              "array([[0., 0.],\n",
              "       [0., 0.]])"
            ]
          },
          "metadata": {
            "tags": []
          },
          "execution_count": 150
        }
      ]
    },
    {
      "cell_type": "code",
      "metadata": {
        "id": "Hsh93K7gdwU9",
        "colab_type": "code",
        "colab": {
          "base_uri": "https://localhost:8080/",
          "height": 34
        },
        "outputId": "371e851c-04fd-42e7-c707-7eed96da15b0"
      },
      "source": [
        "# Creación de un array de unos\n",
        "np.ones(5)"
      ],
      "execution_count": 151,
      "outputs": [
        {
          "output_type": "execute_result",
          "data": {
            "text/plain": [
              "array([1., 1., 1., 1., 1.])"
            ]
          },
          "metadata": {
            "tags": []
          },
          "execution_count": 151
        }
      ]
    },
    {
      "cell_type": "code",
      "metadata": {
        "id": "fsyswO3mc1s-",
        "colab_type": "code",
        "colab": {
          "base_uri": "https://localhost:8080/",
          "height": 67
        },
        "outputId": "bf8c6157-310b-4bec-8334-eb51bf21ff4c"
      },
      "source": [
        "np.ones((3,3))"
      ],
      "execution_count": 152,
      "outputs": [
        {
          "output_type": "execute_result",
          "data": {
            "text/plain": [
              "array([[1., 1., 1.],\n",
              "       [1., 1., 1.],\n",
              "       [1., 1., 1.]])"
            ]
          },
          "metadata": {
            "tags": []
          },
          "execution_count": 152
        }
      ]
    },
    {
      "cell_type": "code",
      "metadata": {
        "id": "_gCvt4M0dwSs",
        "colab_type": "code",
        "colab": {
          "base_uri": "https://localhost:8080/",
          "height": 34
        },
        "outputId": "7fbe1f9e-76a6-40ae-fb96-5126298ed833"
      },
      "source": [
        "# Creación de un array de una costante\n",
        "np.full(5 , 3)"
      ],
      "execution_count": 158,
      "outputs": [
        {
          "output_type": "execute_result",
          "data": {
            "text/plain": [
              "array([3, 3, 3, 3, 3])"
            ]
          },
          "metadata": {
            "tags": []
          },
          "execution_count": 158
        }
      ]
    },
    {
      "cell_type": "code",
      "metadata": {
        "id": "opg5_sA0dEJh",
        "colab_type": "code",
        "colab": {
          "base_uri": "https://localhost:8080/",
          "height": 67
        },
        "outputId": "8ab760ae-cbb4-498f-96b0-b6e1a3fac1b8"
      },
      "source": [
        "np.full((3,3), 10)"
      ],
      "execution_count": 160,
      "outputs": [
        {
          "output_type": "execute_result",
          "data": {
            "text/plain": [
              "array([[10, 10, 10],\n",
              "       [10, 10, 10],\n",
              "       [10, 10, 10]])"
            ]
          },
          "metadata": {
            "tags": []
          },
          "execution_count": 160
        }
      ]
    },
    {
      "cell_type": "code",
      "metadata": {
        "id": "xyE_XBendwQG",
        "colab_type": "code",
        "colab": {
          "base_uri": "https://localhost:8080/",
          "height": 50
        },
        "outputId": "7e5d1c99-2baf-4aca-8431-ed738b72d08d"
      },
      "source": [
        "# Creación de la matriz indentidad de 2x2.\n",
        "np.identity(2)"
      ],
      "execution_count": 163,
      "outputs": [
        {
          "output_type": "execute_result",
          "data": {
            "text/plain": [
              "array([[1., 0.],\n",
              "       [0., 1.]])"
            ]
          },
          "metadata": {
            "tags": []
          },
          "execution_count": 163
        }
      ]
    },
    {
      "cell_type": "code",
      "metadata": {
        "id": "Ca0hbbq2dwNV",
        "colab_type": "code",
        "colab": {
          "base_uri": "https://localhost:8080/",
          "height": 67
        },
        "outputId": "b203f649-dd73-4945-d994-031d6a6614f4"
      },
      "source": [
        "# Crea un vector de cinco valores espaciados \n",
        "np.arange(4,10,0.2)"
      ],
      "execution_count": 165,
      "outputs": [
        {
          "output_type": "execute_result",
          "data": {
            "text/plain": [
              "array([4. , 4.2, 4.4, 4.6, 4.8, 5. , 5.2, 5.4, 5.6, 5.8, 6. , 6.2, 6.4,\n",
              "       6.6, 6.8, 7. , 7.2, 7.4, 7.6, 7.8, 8. , 8.2, 8.4, 8.6, 8.8, 9. ,\n",
              "       9.2, 9.4, 9.6, 9.8])"
            ]
          },
          "metadata": {
            "tags": []
          },
          "execution_count": 165
        }
      ]
    },
    {
      "cell_type": "code",
      "metadata": {
        "id": "_3NsAn63dwK-",
        "colab_type": "code",
        "colab": {
          "base_uri": "https://localhost:8080/",
          "height": 50
        },
        "outputId": "c62df1c1-47c5-47ae-ab8f-d2969f5ee4cb"
      },
      "source": [
        "# Crea un vector de cinco valores espaciados\n",
        "np.linspace(-2,2,10)"
      ],
      "execution_count": 166,
      "outputs": [
        {
          "output_type": "execute_result",
          "data": {
            "text/plain": [
              "array([-2.        , -1.55555556, -1.11111111, -0.66666667, -0.22222222,\n",
              "        0.22222222,  0.66666667,  1.11111111,  1.55555556,  2.        ])"
            ]
          },
          "metadata": {
            "tags": []
          },
          "execution_count": 166
        }
      ]
    },
    {
      "cell_type": "code",
      "metadata": {
        "id": "q0aNVjncdwIU",
        "colab_type": "code",
        "colab": {
          "base_uri": "https://localhost:8080/",
          "height": 50
        },
        "outputId": "18029462-9c22-447d-aaea-3cf48a388460"
      },
      "source": [
        "# Creación de un arreglo de valores aleatorios dados por una distribucion uniforme en el rango (0,1)\n",
        "np.random.random(10)"
      ],
      "execution_count": 167,
      "outputs": [
        {
          "output_type": "execute_result",
          "data": {
            "text/plain": [
              "array([0.04510897, 0.72451303, 0.44931964, 0.64594502, 0.96602371,\n",
              "       0.23066903, 0.77233989, 0.37480168, 0.50343858, 0.43426386])"
            ]
          },
          "metadata": {
            "tags": []
          },
          "execution_count": 167
        }
      ]
    },
    {
      "cell_type": "code",
      "metadata": {
        "id": "4U1m6OAMd3fX",
        "colab_type": "code",
        "colab": {
          "base_uri": "https://localhost:8080/",
          "height": 50
        },
        "outputId": "107415d6-0097-42ec-d161-ae731206136c"
      },
      "source": [
        "np.random.random((2,2))"
      ],
      "execution_count": 169,
      "outputs": [
        {
          "output_type": "execute_result",
          "data": {
            "text/plain": [
              "array([[0.78446688, 0.28443774],\n",
              "       [0.53767983, 0.14187252]])"
            ]
          },
          "metadata": {
            "tags": []
          },
          "execution_count": 169
        }
      ]
    },
    {
      "cell_type": "code",
      "metadata": {
        "id": "1fZamq19XAw7",
        "colab_type": "code",
        "colab": {
          "base_uri": "https://localhost:8080/",
          "height": 50
        },
        "outputId": "59f1d3cf-6d7f-4565-84c5-52ed7f317232"
      },
      "source": [
        "# Creación arreglo de valores aleatorios dados por una distribucion normal \n",
        "np.random.normal(loc=0, scale=1, size=10)"
      ],
      "execution_count": 171,
      "outputs": [
        {
          "output_type": "execute_result",
          "data": {
            "text/plain": [
              "array([ 0.45895605,  0.59282042,  0.59689481,  1.13078369, -1.11667261,\n",
              "       -0.08581048,  2.08031318,  2.14934768, -0.39482094, -1.39840586])"
            ]
          },
          "metadata": {
            "tags": []
          },
          "execution_count": 171
        }
      ]
    },
    {
      "cell_type": "code",
      "metadata": {
        "id": "3bp3bqBQeMNx",
        "colab_type": "code",
        "colab": {
          "base_uri": "https://localhost:8080/",
          "height": 67
        },
        "outputId": "12533e0b-9364-4861-dd38-f813074eba33"
      },
      "source": [
        "np.random.normal(loc=0, scale=1, size=(3,3))"
      ],
      "execution_count": 172,
      "outputs": [
        {
          "output_type": "execute_result",
          "data": {
            "text/plain": [
              "array([[-1.31358478,  1.00590217, -1.14564481],\n",
              "       [ 0.24920212,  0.23690745, -0.51320557],\n",
              "       [-0.64837712, -1.16955595,  1.02789509]])"
            ]
          },
          "metadata": {
            "tags": []
          },
          "execution_count": 172
        }
      ]
    },
    {
      "cell_type": "code",
      "metadata": {
        "id": "wQgZ2VJneB6I",
        "colab_type": "code",
        "colab": {
          "base_uri": "https://localhost:8080/",
          "height": 34
        },
        "outputId": "1e0eed45-74ef-4e6d-8b45-cfce7e7f95c3"
      },
      "source": [
        "# Creación de una arreglo de números enteros aleatorios dados por una distribucion uniforme en el rango dado\n",
        "np.random.randint(low = 2, high=10, size=10)"
      ],
      "execution_count": 175,
      "outputs": [
        {
          "output_type": "execute_result",
          "data": {
            "text/plain": [
              "array([7, 6, 4, 6, 8, 2, 8, 4, 9, 2])"
            ]
          },
          "metadata": {
            "tags": []
          },
          "execution_count": 175
        }
      ]
    },
    {
      "cell_type": "code",
      "metadata": {
        "id": "6oh9CMoWel43",
        "colab_type": "code",
        "colab": {
          "base_uri": "https://localhost:8080/",
          "height": 84
        },
        "outputId": "628c5e28-6482-49f3-b4c8-97e07f66471e"
      },
      "source": [
        "np.random.randint(low = 2, high=10, size=(4,4))"
      ],
      "execution_count": 176,
      "outputs": [
        {
          "output_type": "execute_result",
          "data": {
            "text/plain": [
              "array([[5, 3, 3, 7],\n",
              "       [5, 3, 4, 2],\n",
              "       [2, 9, 6, 7],\n",
              "       [9, 2, 6, 5]])"
            ]
          },
          "metadata": {
            "tags": []
          },
          "execution_count": 176
        }
      ]
    },
    {
      "cell_type": "code",
      "metadata": {
        "id": "20vUymMdeYp9",
        "colab_type": "code",
        "colab": {}
      },
      "source": [
        ""
      ],
      "execution_count": 0,
      "outputs": []
    },
    {
      "cell_type": "markdown",
      "metadata": {
        "id": "lVQa7ZLXhYaS",
        "colab_type": "text"
      },
      "source": [
        "## Ejercicios"
      ]
    },
    {
      "cell_type": "markdown",
      "metadata": {
        "id": "DhgkH2ZAhaCF",
        "colab_type": "text"
      },
      "source": [
        "1) Create a 3×3 numpy array of all True’s "
      ]
    },
    {
      "cell_type": "code",
      "metadata": {
        "id": "3Q5oB1pqgMzv",
        "colab_type": "code",
        "colab": {}
      },
      "source": [
        ""
      ],
      "execution_count": 0,
      "outputs": []
    },
    {
      "cell_type": "markdown",
      "metadata": {
        "id": "Q-4WOsDhhg7F",
        "colab_type": "text"
      },
      "source": [
        "2) Replace all odd numbers in the below arry with -1 \n",
        "```\n",
        "Input\n",
        "\n",
        "arr = np.array([0, 1, 2, 3, 4, 5, 6, 7, 8, 9])\n",
        "```\n"
      ]
    },
    {
      "cell_type": "code",
      "metadata": {
        "id": "vVoeCK0ahgn5",
        "colab_type": "code",
        "colab": {}
      },
      "source": [
        ""
      ],
      "execution_count": 0,
      "outputs": []
    },
    {
      "cell_type": "markdown",
      "metadata": {
        "id": "5fyKapSIhhhs",
        "colab_type": "text"
      },
      "source": [
        "3) Convert a 1D array to a 2D array with 2 rows \n",
        "\n",
        "\n",
        "\n",
        "```\n",
        "Input:\n",
        "\n",
        "arr = np.array([ 0, 1, 2, 3, 4, 5, 6, 7, 8, 9])\n",
        "```\n",
        "\n",
        "ayuda: Investigar el metodo `reshape ` que tienen los arreglos de numpy\n"
      ]
    },
    {
      "cell_type": "code",
      "metadata": {
        "id": "THQ9yMjTRipf",
        "colab_type": "code",
        "colab": {}
      },
      "source": [
        ""
      ],
      "execution_count": 0,
      "outputs": []
    },
    {
      "cell_type": "markdown",
      "metadata": {
        "id": "RR8-8BLcRjHC",
        "colab_type": "text"
      },
      "source": [
        "4) Stack arrays a and b vertically\n",
        "\n",
        "```\n",
        "Input\n",
        "\n",
        "a = np.arange(10).reshape(2,-1)\n",
        "b = np.repeat(1, 10).reshape(2,-1)\n",
        "```\n",
        "\n",
        "ayuda: investigar las funciones np.vstack , np.hstack "
      ]
    },
    {
      "cell_type": "code",
      "metadata": {
        "id": "vD5C3vseRjkr",
        "colab_type": "code",
        "colab": {}
      },
      "source": [
        ""
      ],
      "execution_count": 0,
      "outputs": []
    },
    {
      "cell_type": "markdown",
      "metadata": {
        "id": "PXSsa34kSLBG",
        "colab_type": "text"
      },
      "source": [
        "5) Get the positions where elements of a and b match\n",
        "\n",
        "\n",
        "\n",
        "```\n",
        "Input:\n",
        "\n",
        "a = np.array([1,2,3,2,3,4,3,4,5,6])\n",
        "b = np.array([7,2,10,2,7,4,9,4,9,8])\n",
        "```\n",
        "\n",
        "ayuda: investigar la funcion np.where\n"
      ]
    },
    {
      "cell_type": "code",
      "metadata": {
        "id": "b8pdiPH6SKp8",
        "colab_type": "code",
        "colab": {}
      },
      "source": [
        ""
      ],
      "execution_count": 0,
      "outputs": []
    },
    {
      "cell_type": "markdown",
      "metadata": {
        "id": "3JC7hHw_aVvn",
        "colab_type": "text"
      },
      "source": [
        "6) Swap columns 1 and 2 in the array arr.\n",
        "\n",
        "arr = np.arange(9).reshape(3,3)\n",
        "\n",
        "\n",
        "\n",
        "\n",
        "```\n",
        "arr = np.arange(9).reshape(3,3)\n",
        "```\n",
        "\n"
      ]
    },
    {
      "cell_type": "code",
      "metadata": {
        "id": "Y-g-3_1OaVVe",
        "colab_type": "code",
        "colab": {}
      },
      "source": [
        ""
      ],
      "execution_count": 0,
      "outputs": []
    },
    {
      "cell_type": "markdown",
      "metadata": {
        "id": "O-aeg8avhiZo",
        "colab_type": "text"
      },
      "source": [
        "## Operaciones basicas entre entre arreglos del mismo tamaño"
      ]
    },
    {
      "cell_type": "markdown",
      "metadata": {
        "id": "As4wq1NQm_b2",
        "colab_type": "text"
      },
      "source": [
        "Las operaciones basicas entre arreglos se dan elemento a elemnto "
      ]
    },
    {
      "cell_type": "code",
      "metadata": {
        "id": "kR2TufwVhgT4",
        "colab_type": "code",
        "colab": {
          "base_uri": "https://localhost:8080/",
          "height": 34
        },
        "outputId": "611d99e1-c415-4a54-e0f6-5f2bb77c6f30"
      },
      "source": [
        "#definamos los dos arreglos\n",
        "v = np.random.randint(low = 2, high=10, size=10)\n",
        "w = np.random.randint(low = 2, high=10, size=10)\n",
        "v,w"
      ],
      "execution_count": 180,
      "outputs": [
        {
          "output_type": "execute_result",
          "data": {
            "text/plain": [
              "(array([2, 8, 5, 6, 7, 7, 2, 6, 8, 9]), array([9, 6, 5, 6, 7, 9, 5, 4, 3, 8]))"
            ]
          },
          "metadata": {
            "tags": []
          },
          "execution_count": 180
        }
      ]
    },
    {
      "cell_type": "code",
      "metadata": {
        "id": "m1_IKMPinIZT",
        "colab_type": "code",
        "outputId": "b4105daa-da8c-4808-dfde-c2c41b2c7cd3",
        "colab": {
          "base_uri": "https://localhost:8080/",
          "height": 50
        }
      },
      "source": [
        "#suma y resta de dos arreglos 1D de la misma longitud\n",
        "w + v , w - v"
      ],
      "execution_count": 181,
      "outputs": [
        {
          "output_type": "execute_result",
          "data": {
            "text/plain": [
              "(array([11, 14, 10, 12, 14, 16,  7, 10, 11, 17]),\n",
              " array([ 7, -2,  0,  0,  0,  2,  3, -2, -5, -1]))"
            ]
          },
          "metadata": {
            "tags": []
          },
          "execution_count": 181
        }
      ]
    },
    {
      "cell_type": "code",
      "metadata": {
        "id": "J1YLZjnvnKBN",
        "colab_type": "code",
        "colab": {
          "base_uri": "https://localhost:8080/",
          "height": 67
        },
        "outputId": "7cdf8c16-6353-4e02-b7a1-511d67d3f678"
      },
      "source": [
        "#multiplicacion y division\n",
        "w*v , w/v"
      ],
      "execution_count": 182,
      "outputs": [
        {
          "output_type": "execute_result",
          "data": {
            "text/plain": [
              "(array([18, 48, 25, 36, 49, 63, 10, 24, 24, 72]),\n",
              " array([4.5       , 0.75      , 1.        , 1.        , 1.        ,\n",
              "        1.28571429, 2.5       , 0.66666667, 0.375     , 0.88888889]))"
            ]
          },
          "metadata": {
            "tags": []
          },
          "execution_count": 182
        }
      ]
    },
    {
      "cell_type": "code",
      "metadata": {
        "id": "GoId02Khp_dw",
        "colab_type": "code",
        "colab": {
          "base_uri": "https://localhost:8080/",
          "height": 50
        },
        "outputId": "0dab2e31-4b6f-4b5b-848d-5ec90cfe8d3e"
      },
      "source": [
        "#Potenciacion\n",
        "w**v"
      ],
      "execution_count": 183,
      "outputs": [
        {
          "output_type": "execute_result",
          "data": {
            "text/plain": [
              "array([       81,   1679616,      3125,     46656,    823543,   4782969,\n",
              "              25,      4096,      6561, 134217728])"
            ]
          },
          "metadata": {
            "tags": []
          },
          "execution_count": 183
        }
      ]
    },
    {
      "cell_type": "code",
      "metadata": {
        "colab_type": "code",
        "outputId": "51d1e9ca-4b55-4436-fea7-01cd1df1a135",
        "id": "sryKvUt_f31i",
        "colab": {
          "base_uri": "https://localhost:8080/",
          "height": 101
        }
      },
      "source": [
        "#definamos los dos arreglos 2D\n",
        "v = np.random.randint(low = 2, high=10, size=(3,3))\n",
        "w = np.random.randint(low = 2, high=10, size=(3,3))\n",
        "v,w"
      ],
      "execution_count": 184,
      "outputs": [
        {
          "output_type": "execute_result",
          "data": {
            "text/plain": [
              "(array([[8, 8, 6],\n",
              "        [4, 8, 8],\n",
              "        [3, 4, 2]]), array([[2, 9, 5],\n",
              "        [8, 5, 6],\n",
              "        [5, 2, 9]]))"
            ]
          },
          "metadata": {
            "tags": []
          },
          "execution_count": 184
        }
      ]
    },
    {
      "cell_type": "code",
      "metadata": {
        "colab_type": "code",
        "outputId": "2b1f7cb5-aaf7-4cf8-c2a0-08c539730c90",
        "id": "Ki8VGUDcf31p",
        "colab": {
          "base_uri": "https://localhost:8080/",
          "height": 67
        }
      },
      "source": [
        "#suma y resta de dos arreglos 1D de la misma longitud\n",
        "w + v"
      ],
      "execution_count": 188,
      "outputs": [
        {
          "output_type": "execute_result",
          "data": {
            "text/plain": [
              "array([[10, 17, 11],\n",
              "       [12, 13, 14],\n",
              "       [ 8,  6, 11]])"
            ]
          },
          "metadata": {
            "tags": []
          },
          "execution_count": 188
        }
      ]
    },
    {
      "cell_type": "code",
      "metadata": {
        "colab_type": "code",
        "outputId": "645c806a-76c3-4987-9f22-4718be6701c9",
        "id": "AOyZonSwf31r",
        "colab": {
          "base_uri": "https://localhost:8080/",
          "height": 67
        }
      },
      "source": [
        "#multiplicacion y division\n",
        "w*v "
      ],
      "execution_count": 189,
      "outputs": [
        {
          "output_type": "execute_result",
          "data": {
            "text/plain": [
              "array([[16, 72, 30],\n",
              "       [32, 40, 48],\n",
              "       [15,  8, 18]])"
            ]
          },
          "metadata": {
            "tags": []
          },
          "execution_count": 189
        }
      ]
    },
    {
      "cell_type": "code",
      "metadata": {
        "colab_type": "code",
        "outputId": "7168718d-ae56-4c83-b563-f82885d24782",
        "id": "x6qxIvV8f31v",
        "colab": {
          "base_uri": "https://localhost:8080/",
          "height": 67
        }
      },
      "source": [
        "#Potenciacion\n",
        "w**v"
      ],
      "execution_count": 190,
      "outputs": [
        {
          "output_type": "execute_result",
          "data": {
            "text/plain": [
              "array([[     256, 43046721,    15625],\n",
              "       [    4096,   390625,  1679616],\n",
              "       [     125,       16,       81]])"
            ]
          },
          "metadata": {
            "tags": []
          },
          "execution_count": 190
        }
      ]
    },
    {
      "cell_type": "markdown",
      "metadata": {
        "id": "MuPviq5RsIZ-",
        "colab_type": "text"
      },
      "source": [
        "## Operaciones basicas entre entre arreglos de diferente tamaño (Broadcasting)"
      ]
    },
    {
      "cell_type": "code",
      "metadata": {
        "id": "mME65bYHsI0w",
        "colab_type": "code",
        "colab": {}
      },
      "source": [
        "#definamos un arreglo 1D con numeros aleatorios\n",
        "v = np.random.randint(low = 2, high=10, size=10)"
      ],
      "execution_count": 0,
      "outputs": []
    },
    {
      "cell_type": "code",
      "metadata": {
        "id": "8lKmdSeFsJce",
        "colab_type": "code",
        "colab": {
          "base_uri": "https://localhost:8080/",
          "height": 50
        },
        "outputId": "fbc1e5c3-756e-4365-d870-28ec16d7702d"
      },
      "source": [
        "#suma y resta de un arreglo y una constante\n",
        "v + 1 , v - 1"
      ],
      "execution_count": 204,
      "outputs": [
        {
          "output_type": "execute_result",
          "data": {
            "text/plain": [
              "(array([ 4,  3, 10,  8,  8,  3,  3,  9,  7, 10]),\n",
              " array([2, 1, 8, 6, 6, 1, 1, 7, 5, 8]))"
            ]
          },
          "metadata": {
            "tags": []
          },
          "execution_count": 204
        }
      ]
    },
    {
      "cell_type": "code",
      "metadata": {
        "id": "wTIMb_kUsJaK",
        "colab_type": "code",
        "colab": {
          "base_uri": "https://localhost:8080/",
          "height": 50
        },
        "outputId": "11a080e4-f994-4d22-eac8-c5fcf9d76f26"
      },
      "source": [
        "#multiplicacion  y division de un arreglo y una constante\n",
        "v*2 , v/2"
      ],
      "execution_count": 205,
      "outputs": [
        {
          "output_type": "execute_result",
          "data": {
            "text/plain": [
              "(array([ 6,  4, 18, 14, 14,  4,  4, 16, 12, 18]),\n",
              " array([1.5, 1. , 4.5, 3.5, 3.5, 1. , 1. , 4. , 3. , 4.5]))"
            ]
          },
          "metadata": {
            "tags": []
          },
          "execution_count": 205
        }
      ]
    },
    {
      "cell_type": "code",
      "metadata": {
        "id": "IzWhCpnAbbXO",
        "colab_type": "code",
        "colab": {
          "base_uri": "https://localhost:8080/",
          "height": 50
        },
        "outputId": "4c658f89-4948-4b94-9818-abee2c177a6a"
      },
      "source": [
        "#Comparaciones entre arreglo y una constante\n",
        "v > 5"
      ],
      "execution_count": 206,
      "outputs": [
        {
          "output_type": "execute_result",
          "data": {
            "text/plain": [
              "array([False, False,  True,  True,  True, False, False,  True,  True,\n",
              "        True])"
            ]
          },
          "metadata": {
            "tags": []
          },
          "execution_count": 206
        }
      ]
    },
    {
      "cell_type": "code",
      "metadata": {
        "id": "tN0kO7OGsJXo",
        "colab_type": "code",
        "colab": {
          "base_uri": "https://localhost:8080/",
          "height": 84
        },
        "outputId": "ee2d4d4c-6d5d-4fd1-8c11-4087a84e9e58"
      },
      "source": [
        "#Definamos dos arreglos con diferentes damaños\n",
        "v = np.random.randint(low = 2, high=10, size=(4,4))\n",
        "w = np.random.randint(low = 2, high=10, size=(1,4))\n",
        "v"
      ],
      "execution_count": 239,
      "outputs": [
        {
          "output_type": "execute_result",
          "data": {
            "text/plain": [
              "array([[2, 9, 3, 7],\n",
              "       [8, 7, 3, 5],\n",
              "       [9, 9, 9, 4],\n",
              "       [7, 7, 7, 6]])"
            ]
          },
          "metadata": {
            "tags": []
          },
          "execution_count": 239
        }
      ]
    },
    {
      "cell_type": "code",
      "metadata": {
        "id": "_RiPPJ_ugndB",
        "colab_type": "code",
        "colab": {
          "base_uri": "https://localhost:8080/",
          "height": 34
        },
        "outputId": "c31ffebc-6395-4d20-dea6-e2efc583baa4"
      },
      "source": [
        "w"
      ],
      "execution_count": 240,
      "outputs": [
        {
          "output_type": "execute_result",
          "data": {
            "text/plain": [
              "array([[2, 3, 3, 4]])"
            ]
          },
          "metadata": {
            "tags": []
          },
          "execution_count": 240
        }
      ]
    },
    {
      "cell_type": "code",
      "metadata": {
        "id": "diYZVRpysJQ-",
        "colab_type": "code",
        "colab": {
          "base_uri": "https://localhost:8080/",
          "height": 84
        },
        "outputId": "02cd062c-7c2e-4b85-c140-e1e9491cb74a"
      },
      "source": [
        "#Suma entre los dos arreglos\n",
        "w + v"
      ],
      "execution_count": 241,
      "outputs": [
        {
          "output_type": "execute_result",
          "data": {
            "text/plain": [
              "array([[ 4, 12,  6, 11],\n",
              "       [10, 10,  6,  9],\n",
              "       [11, 12, 12,  8],\n",
              "       [ 9, 10, 10, 10]])"
            ]
          },
          "metadata": {
            "tags": []
          },
          "execution_count": 241
        }
      ]
    },
    {
      "cell_type": "code",
      "metadata": {
        "id": "csqdqQCYhxhj",
        "colab_type": "code",
        "colab": {
          "base_uri": "https://localhost:8080/",
          "height": 84
        },
        "outputId": "42afe6af-41ab-4509-dfa3-2361335ef1fe"
      },
      "source": [
        "#Multiplicacion\n",
        "w*v"
      ],
      "execution_count": 242,
      "outputs": [
        {
          "output_type": "execute_result",
          "data": {
            "text/plain": [
              "array([[ 4, 27,  9, 28],\n",
              "       [16, 21,  9, 20],\n",
              "       [18, 27, 27, 16],\n",
              "       [14, 21, 21, 24]])"
            ]
          },
          "metadata": {
            "tags": []
          },
          "execution_count": 242
        }
      ]
    },
    {
      "cell_type": "code",
      "metadata": {
        "id": "hQ6AbgVdh2k2",
        "colab_type": "code",
        "colab": {
          "base_uri": "https://localhost:8080/",
          "height": 84
        },
        "outputId": "8d56c6fb-dfdc-4671-caf3-dd8fb0d068d1"
      },
      "source": [
        "#exponenciacion\n",
        "w**v"
      ],
      "execution_count": 243,
      "outputs": [
        {
          "output_type": "execute_result",
          "data": {
            "text/plain": [
              "array([[    4, 19683,    27, 16384],\n",
              "       [  256,  2187,    27,  1024],\n",
              "       [  512, 19683, 19683,   256],\n",
              "       [  128,  2187,  2187,  4096]])"
            ]
          },
          "metadata": {
            "tags": []
          },
          "execution_count": 243
        }
      ]
    },
    {
      "cell_type": "markdown",
      "metadata": {
        "id": "omVToYxnpeYm",
        "colab_type": "text"
      },
      "source": [
        "## Ufunctions "
      ]
    },
    {
      "cell_type": "markdown",
      "metadata": {
        "id": "thRPhox9qM_t",
        "colab_type": "text"
      },
      "source": [
        "algunos ejemplso de Ufunctions \n"
      ]
    },
    {
      "cell_type": "code",
      "metadata": {
        "id": "4MV07gA6j3qf",
        "colab_type": "code",
        "colab": {}
      },
      "source": [
        "#definamos dos arreglos 1D con numeros aleatorios\n",
        "v = np.random.random(10)"
      ],
      "execution_count": 0,
      "outputs": []
    },
    {
      "cell_type": "code",
      "metadata": {
        "id": "IGuxqghXnJ-1",
        "colab_type": "code",
        "colab": {
          "base_uri": "https://localhost:8080/",
          "height": 34
        },
        "outputId": "ff82ffa4-7de1-4ff7-b8e5-361e442d48db"
      },
      "source": [
        "#sumar las componenetes de un arreglo\n",
        "np.sum(v)"
      ],
      "execution_count": 17,
      "outputs": [
        {
          "output_type": "execute_result",
          "data": {
            "text/plain": [
              "6.147133217665829"
            ]
          },
          "metadata": {
            "tags": []
          },
          "execution_count": 17
        }
      ]
    },
    {
      "cell_type": "code",
      "metadata": {
        "id": "Mvl6dSR2nJ8z",
        "colab_type": "code",
        "colab": {
          "base_uri": "https://localhost:8080/",
          "height": 50
        },
        "outputId": "163b07ba-3151-453c-d489-7e2791f8a078"
      },
      "source": [
        "#funciones trigonometricas\n",
        "np.sin(v)"
      ],
      "execution_count": 21,
      "outputs": [
        {
          "output_type": "execute_result",
          "data": {
            "text/plain": [
              "array([0.47477787, 0.63835152, 0.01992436, 0.81485272, 0.63790557,\n",
              "       0.41127137, 0.78796114, 0.55904736, 0.79741786, 0.43344421])"
            ]
          },
          "metadata": {
            "tags": []
          },
          "execution_count": 21
        }
      ]
    },
    {
      "cell_type": "code",
      "metadata": {
        "id": "3de_OLZynJ51",
        "colab_type": "code",
        "colab": {
          "base_uri": "https://localhost:8080/",
          "height": 50
        },
        "outputId": "47e023c0-627d-493b-ace3-072be6ecf073"
      },
      "source": [
        "#exponencial\n",
        "np.exp(v)"
      ],
      "execution_count": 22,
      "outputs": [
        {
          "output_type": "execute_result",
          "data": {
            "text/plain": [
              "array([1.64002522, 1.99841579, 1.02012552, 2.59211741, 1.99725865,\n",
              "       1.52782997, 2.47809627, 1.80983629, 2.51683941, 1.56566581])"
            ]
          },
          "metadata": {
            "tags": []
          },
          "execution_count": 22
        }
      ]
    },
    {
      "cell_type": "code",
      "metadata": {
        "id": "SDCTycGaoXkt",
        "colab_type": "code",
        "colab": {
          "base_uri": "https://localhost:8080/",
          "height": 67
        },
        "outputId": "a4c4fa5b-b88e-4038-db85-4d2fa905ff48"
      },
      "source": [
        "#multiplicacion\n",
        "np.multiply(v,v)"
      ],
      "execution_count": 23,
      "outputs": [
        {
          "output_type": "execute_result",
          "data": {
            "text/plain": [
              "array([2.44739590e-01, 4.79355114e-01, 3.97032577e-04, 9.07208771e-01,\n",
              "       4.78553430e-01, 1.79647475e-01, 8.23539248e-01, 3.51929419e-01,\n",
              "       8.51936219e-01, 2.00982907e-01])"
            ]
          },
          "metadata": {
            "tags": []
          },
          "execution_count": 23
        }
      ]
    },
    {
      "cell_type": "code",
      "metadata": {
        "id": "08ik2h3Brksh",
        "colab_type": "code",
        "colab": {
          "base_uri": "https://localhost:8080/",
          "height": 34
        },
        "outputId": "bf2fd84a-5d49-4bfd-cc00-02c778aafa45"
      },
      "source": [
        "#media \n",
        "np.mean(v)"
      ],
      "execution_count": 24,
      "outputs": [
        {
          "output_type": "execute_result",
          "data": {
            "text/plain": [
              "0.6147133217665829"
            ]
          },
          "metadata": {
            "tags": []
          },
          "execution_count": 24
        }
      ]
    },
    {
      "cell_type": "code",
      "metadata": {
        "id": "RXgOunzMrko_",
        "colab_type": "code",
        "colab": {
          "base_uri": "https://localhost:8080/",
          "height": 34
        },
        "outputId": "892d21bc-8024-44cc-8b16-86c24aaad7f2"
      },
      "source": [
        "#desviacion estandar \n",
        "np.std(v)"
      ],
      "execution_count": 25,
      "outputs": [
        {
          "output_type": "execute_result",
          "data": {
            "text/plain": [
              "0.2719493565316493"
            ]
          },
          "metadata": {
            "tags": []
          },
          "execution_count": 25
        }
      ]
    },
    {
      "cell_type": "markdown",
      "metadata": {
        "id": "JQXcwRCllGpT",
        "colab_type": "text"
      },
      "source": [
        "## Ejercicios"
      ]
    },
    {
      "cell_type": "markdown",
      "metadata": {
        "id": "aBifb82zlJvO",
        "colab_type": "text"
      },
      "source": [
        "Para los siguientes ejercicios concidere el suguiente conjunto de datos"
      ]
    },
    {
      "cell_type": "code",
      "metadata": {
        "id": "xt1iuYG0kQIf",
        "colab_type": "code",
        "colab": {}
      },
      "source": [
        "#librearia que contiene el conjunto de tados llamados iris\n",
        "from sklearn.datasets import load_iris"
      ],
      "execution_count": 0,
      "outputs": []
    },
    {
      "cell_type": "code",
      "metadata": {
        "id": "USYNRIezldIg",
        "colab_type": "code",
        "colab": {}
      },
      "source": [
        "#utilizamos la funcion load_iris() para cargar los datos\n",
        "dataset = load_iris()"
      ],
      "execution_count": 0,
      "outputs": []
    },
    {
      "cell_type": "code",
      "metadata": {
        "id": "sayJKGdklrbM",
        "colab_type": "code",
        "colab": {
          "base_uri": "https://localhost:8080/",
          "height": 34
        },
        "outputId": "93009bf9-938b-46e0-ed35-b2d08a776e83"
      },
      "source": [
        "#Inspecciones un poco los datos , tenga encuenta que los datos vienen en forma de diccionario\n",
        "dataset.keys()"
      ],
      "execution_count": 5,
      "outputs": [
        {
          "output_type": "execute_result",
          "data": {
            "text/plain": [
              "dict_keys(['data', 'target', 'target_names', 'DESCR', 'feature_names', 'filename'])"
            ]
          },
          "metadata": {
            "tags": []
          },
          "execution_count": 5
        }
      ]
    },
    {
      "cell_type": "code",
      "metadata": {
        "id": "DrcxpC_Cl2Jk",
        "colab_type": "code",
        "colab": {}
      },
      "source": [
        "#veamos la descripcion del data set\n",
        "dataset['DESCR']"
      ],
      "execution_count": 0,
      "outputs": []
    },
    {
      "cell_type": "code",
      "metadata": {
        "id": "5tRpxT0umvYn",
        "colab_type": "code",
        "colab": {
          "base_uri": "https://localhost:8080/",
          "height": 84
        },
        "outputId": "33e7e6b3-edd9-4e24-aa28-aafc6d28a4a8"
      },
      "source": [
        "#veamos el nombre de las caracteristicas\n",
        "dataset['feature_names']"
      ],
      "execution_count": 6,
      "outputs": [
        {
          "output_type": "execute_result",
          "data": {
            "text/plain": [
              "['sepal length (cm)',\n",
              " 'sepal width (cm)',\n",
              " 'petal length (cm)',\n",
              " 'petal width (cm)']"
            ]
          },
          "metadata": {
            "tags": []
          },
          "execution_count": 6
        }
      ]
    },
    {
      "cell_type": "code",
      "metadata": {
        "id": "vDSWWLRLWJQJ",
        "colab_type": "code",
        "colab": {
          "base_uri": "https://localhost:8080/",
          "height": 34
        },
        "outputId": "211cdd3c-aa82-4104-a7cf-68a58cf48b71"
      },
      "source": [
        "#veamos las etiquetas\n",
        "dataset['filename']"
      ],
      "execution_count": 7,
      "outputs": [
        {
          "output_type": "execute_result",
          "data": {
            "text/plain": [
              "'/usr/local/lib/python3.6/dist-packages/sklearn/datasets/data/iris.csv'"
            ]
          },
          "metadata": {
            "tags": []
          },
          "execution_count": 7
        }
      ]
    },
    {
      "cell_type": "code",
      "metadata": {
        "id": "s0iqQF0Amb3b",
        "colab_type": "code",
        "colab": {}
      },
      "source": [
        "#separemos los datos\n",
        "X = dataset['data'][: , [0,1]]"
      ],
      "execution_count": 0,
      "outputs": []
    },
    {
      "cell_type": "markdown",
      "metadata": {
        "id": "ERETRvgbnCDi",
        "colab_type": "text"
      },
      "source": [
        "1) Obtenga el valor maximo y el valor minimo de la matriz X, luego obtenga el valor maximo y minimo de cada una de las columnas (esto es cada una de las caracteristicas)"
      ]
    },
    {
      "cell_type": "code",
      "metadata": {
        "id": "yabba179moAZ",
        "colab_type": "code",
        "colab": {}
      },
      "source": [
        ""
      ],
      "execution_count": 0,
      "outputs": []
    },
    {
      "cell_type": "markdown",
      "metadata": {
        "id": "P1ccdlZnnxkJ",
        "colab_type": "text"
      },
      "source": [
        "2) Obtenga el valor medio y la desviacion estandar para cada una de las caracteristicas"
      ]
    },
    {
      "cell_type": "code",
      "metadata": {
        "id": "hIuE-Z1-niYJ",
        "colab_type": "code",
        "colab": {}
      },
      "source": [
        ""
      ],
      "execution_count": 0,
      "outputs": []
    },
    {
      "cell_type": "markdown",
      "metadata": {
        "id": "534SxP22odDp",
        "colab_type": "text"
      },
      "source": [
        "3) Para cada una de las caracteristica extraiga los valores que son mayores a sus medias"
      ]
    },
    {
      "cell_type": "code",
      "metadata": {
        "id": "zRe8DXy_n67A",
        "colab_type": "code",
        "colab": {}
      },
      "source": [
        ""
      ],
      "execution_count": 0,
      "outputs": []
    },
    {
      "cell_type": "markdown",
      "metadata": {
        "id": "YKgmhCoorV1y",
        "colab_type": "text"
      },
      "source": [
        "4) Una operacion muy frecuente cuando se trabaja con modelos de machinlearning es la estandarizacion de los datos (luego veremos esto a fonto) la cual esta definida por \n",
        "\n",
        "\\begin{equation}\n",
        "\\frac{x-\\mu}{s}\n",
        "\\end{equation}\n",
        "\n",
        "$\\mu$ es la media y s es la desviacion estandar.\n",
        "\n",
        "cree una funcion que haga esta operacion sobre arreglos 1D de numpy y luego apliquela sobre cada una de las caracteristicas de nuestro datos"
      ]
    }
  ]
}